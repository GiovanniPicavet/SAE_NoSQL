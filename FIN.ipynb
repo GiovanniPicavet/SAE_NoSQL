# Importation des modules utilisés et création des connexions
import sqlite3
import pandas
import pymongo
import mongojoin
# Connection SQL
conn = sqlite3.connect("ClassicModel.sqlite")

# Connection MongDB
client = pymongo.MongoClient("mongodb://localhost:27017/")
db = client.SAE_NoSQL
Q1= pandas.read_sql_query("""SELECT t1.customerName
            from Customers as t1
            left join Orders as t2 on t1.customerNumber=t2.customerNumber
            where t2.orderNumber is NULL""",conn)
print(Q1)
Q2= pandas.read_sql_query("""SELECT t1.lastName, t1.firstName,
    Count(distinct t2.customerNumber) as Nombre_client,
    count(distinct t3.orderNumber) as Nombre_commande,
    sum(quantityOrdered*priceEach) as montant_total
            from Employees as t1
            left join Customers as t2 on t1.employeeNumber=t2.salesRepEmployeeNumber
            left join Orders as t3 on t2.customerNumber=t3.customerNumber
            left join OrderDetails as t4 on t3.orderNumber=t4.orderNumber
            group by t1.employeeNumber""",conn)
print(Q2)
Q3= pandas.read_sql_query("""SELECT t0.city, t0.country,
    Count(distinct t2.customerNumber) as Nombre_client,
    count(distinct t3.orderNumber) as Nombre_commande,
    sum(quantityOrdered*priceEach) as montant_total,
    count(distinct Case when t0.country !=t2.country then t2.customerNumber end) as Nombre_client_etranger
            from Offices t0
            left join Employees as t1 on t0.officeCode=t1.officeCode
            left join Customers as t2 on t1.employeeNumber=t2.salesRepEmployeeNumber
            left join Orders as t3 on t2.customerNumber=t3.customerNumber
            left join OrderDetails as t4 on t3.orderNumber=t4.orderNumber
            group by t1.officeCode""",conn)
print(Q3)

Q4= pandas.read_sql_query("""SELECT t0.productCode, t0.productName,
    Count(distinct t2.customerNumber) as Nombre_client,
    count(distinct t1.orderNumber) as Nombre_commande,
    sum(quantityOrdered) as quatite_total
            from Products t0
            left join OrderDetails as t1 on t0.productCode=t1.productCode
            left join Orders as t2 on t1.orderNumber=t2.orderNumber
            group by t0.productCode""",conn)
print(Q4)
Q5= pandas.read_sql_query("""SELECT t0.country,
    count(distinct t1.orderNumber) as nombre_commande,
    sum(quantityOrdered*priceEach) as montant_total,
    sum(amount) as montant_total_paye
            from Customers t0
            left join Orders as t1 on t0.customerNumber=t1.customerNumber
            left join OrderDetails as t2 on t1.orderNumber=t2.orderNumber
            left join Payments as t3 on t0.customerNumber=t3.customerNumber
            group by t0.country""",conn)
print(Q5)
Q6= pandas.read_sql_query("""SELECT t0.productLine,
                          t3.country,
    count(distinct t1.orderNumber) as nombre_commande
            from Products t0
            left join OrderDetails as t1 on t0.productCode=t1.productCode
            left join Orders as t2 on t1.orderNumber=t2.orderNumber
            left join Customers as t3 on t2.customerNumber=t3.customerNumber
            group by t0.productLine, t3.country""",conn)
print(Q6)
Q7= pandas.read_sql_query("""SELECT t0.productLine,
                          t3.country,
    sum(distinct t4.amount) as montant_total_paye
            from Products t0
            left join OrderDetails as t1 on t0.productCode=t1.productCode
            left join Orders as t2 on t1.orderNumber=t2.orderNumber
            left join Customers as t3 on t2.customerNumber=t3.customerNumber
            left join Payments as t4 on t3.customerNumber=t4.customerNumber
            group by t0.productLine, t3.country""",conn)
print(Q7)
Q8= pandas.read_sql_query("""SELECT t0.productName,
    avg(priceEach - buyPrice) as marge_moy
            from Products t0
            left join OrderDetails as t1 on t0.productCode=t1.productCode
            group by t0.productCode
            order by marge_moy desc
            limit 10""",conn)
print(Q8)
Q9= pandas.read_sql_query("""SELECT t0.productName,
                          t3.customerName,t3.customerNumber,
    (priceEach - buyPrice) as marge,
    sum(case when (priceEach - buyPrice) <=0 then 1 else 0 end) as nombre_commande
            from Products t0
            left join OrderDetails as t1 on t0.productCode=t1.productCode
            left join Orders as t2 on t1.orderNumber=t2.orderNumber
            left join Customers as t3 on t2.customerNumber=t3.customerNumber
            where marge <=0
            group by t0.productName""",conn)
print(Q9)
Q10= pandas.read_sql_query("""SELECT t0.customerName,
    sum(quantityOrdered*priceEach) as montant_total,
    sum(amount) as montant_total_paye
            from Customers t0
            left join Orders as t1 on t0.customerNumber=t1.customerNumber
            left join OrderDetails as t2 on t1.orderNumber=t2.orderNumber
            left join Products as ta on ta.productCode=t2.productCode
            left join Payments as t3 on t0.customerNumber=t3.customerNumber
            group by ta.productCode
            having montant_total_paye > montant_total""",conn)
print(Q10)
# Récupération du contenu avec des requêtes SQL
employe = pandas.read_sql_query(
    "SELECT * FROM Employees INNER JOIN Offices USING (officeCode);", 
    conn
)

customers = pandas.read_sql_query(
    "SELECT * FROM Customers;", 
    conn
)

Payments = pandas.read_sql_query(
    "SELECT * FROM Payments;", 
    conn
)

product = pandas.read_sql_query(
    "SELECT * FROM Products;", 
    conn
)

order_detail = pandas.read_sql_query(
    "SELECT * FROM OrderDetails INNER JOIN Products USING (productCode);", 
    conn
)


order = pandas.read_sql_query(
    "SELECT * FROM Orders;", 
    conn
)

employe = employe.assign()
db.employe.insert_many(
    employe.drop(columns=["officeCode"])
    .to_dict(orient = "records")
)
Payment = [
    Payments.query('customerNumber== @id')
    .drop(columns=["customerNumber"])
    .to_dict(orient = "records")
    for id in customers.customerNumber
]

customer = customers.assign(payments = Payment)
db.customers.insert_many(
    customer.to_dict(orient = "records")
)
detail = [
    order_detail.query('orderNumber== @id')
    .drop(columns=["orderNumber","productCode"])
    .to_dict(orient = "records")
    for id in order.orderNumber
]

order = order.assign(details = detail)
db.orders.insert_many(
    order.to_dict(orient = "records")
)
# Fermeture de la connexion : IMPORTANT à faire dans un cadre professionnel
conn.close()
# Récupération du contenu avec des rêquetes NoSQL MongoDB
# Requête Q1 : Clients sans commandes
Q1 = db.customers.aggregate([
    {"$lookup": {
        "from": "orders",
        "localField": "customerNumber",
        "foreignField": "customerNumber",
        "as": "orders"
    }},
    {"$match": {"orders": {"$size": 0}}},  # Les clients sans commande
    {"$project": {"_id": 0, "customerName": 1}}
])

pandas.DataFrame(list(Q1))
